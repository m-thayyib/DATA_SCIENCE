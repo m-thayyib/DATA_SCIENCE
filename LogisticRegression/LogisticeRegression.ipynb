{
 "cells": [
  {
   "cell_type": "markdown",
   "id": "4198d27c-1b64-41a0-a45f-46349884e9fa",
   "metadata": {},
   "source": [
    "<h2 style=\"color:Tomato;\"> Predicting if a person buy insurance or not</h2>"
   ]
  },
  {
   "cell_type": "code",
   "execution_count": 23,
   "id": "991790ec-201a-4ac6-811e-e03d6b1563d2",
   "metadata": {},
   "outputs": [],
   "source": [
    "# import all the libs\n",
    "import pandas as pd\n",
    "import numpy as np\n",
    "import seaborn as sns\n",
    "import matplotlib.pyplot as plt"
   ]
  },
  {
   "cell_type": "code",
   "execution_count": 24,
   "id": "efe9539f-e255-454c-9b64-bc8cc604512f",
   "metadata": {},
   "outputs": [],
   "source": [
    "insurance = pd.read_csv('insurance_data.csv')"
   ]
  },
  {
   "cell_type": "code",
   "execution_count": 25,
   "id": "55856df2-f456-423a-bc94-046aecfa63ce",
   "metadata": {},
   "outputs": [],
   "source": [
    "df = pd.DataFrame(insurance)"
   ]
  },
  {
   "cell_type": "code",
   "execution_count": 26,
   "id": "b87436f2-4891-45d2-920b-08905c4a157f",
   "metadata": {},
   "outputs": [
    {
     "data": {
      "text/html": [
       "<div>\n",
       "<style scoped>\n",
       "    .dataframe tbody tr th:only-of-type {\n",
       "        vertical-align: middle;\n",
       "    }\n",
       "\n",
       "    .dataframe tbody tr th {\n",
       "        vertical-align: top;\n",
       "    }\n",
       "\n",
       "    .dataframe thead th {\n",
       "        text-align: right;\n",
       "    }\n",
       "</style>\n",
       "<table border=\"1\" class=\"dataframe\">\n",
       "  <thead>\n",
       "    <tr style=\"text-align: right;\">\n",
       "      <th></th>\n",
       "      <th>age</th>\n",
       "      <th>bought_insurance</th>\n",
       "    </tr>\n",
       "  </thead>\n",
       "  <tbody>\n",
       "    <tr>\n",
       "      <th>0</th>\n",
       "      <td>22</td>\n",
       "      <td>0</td>\n",
       "    </tr>\n",
       "    <tr>\n",
       "      <th>1</th>\n",
       "      <td>25</td>\n",
       "      <td>0</td>\n",
       "    </tr>\n",
       "    <tr>\n",
       "      <th>2</th>\n",
       "      <td>47</td>\n",
       "      <td>1</td>\n",
       "    </tr>\n",
       "    <tr>\n",
       "      <th>3</th>\n",
       "      <td>52</td>\n",
       "      <td>0</td>\n",
       "    </tr>\n",
       "    <tr>\n",
       "      <th>4</th>\n",
       "      <td>46</td>\n",
       "      <td>1</td>\n",
       "    </tr>\n",
       "  </tbody>\n",
       "</table>\n",
       "</div>"
      ],
      "text/plain": [
       "   age  bought_insurance\n",
       "0   22                 0\n",
       "1   25                 0\n",
       "2   47                 1\n",
       "3   52                 0\n",
       "4   46                 1"
      ]
     },
     "execution_count": 26,
     "metadata": {},
     "output_type": "execute_result"
    }
   ],
   "source": [
    "df.shape\n",
    "df.head()"
   ]
  },
  {
   "cell_type": "code",
   "execution_count": 36,
   "id": "a9f48eeb-e85c-4471-9962-a63170cb7e3e",
   "metadata": {},
   "outputs": [
    {
     "data": {
      "text/plain": [
       "[<matplotlib.lines.Line2D at 0x7fdda80ad2e0>]"
      ]
     },
     "execution_count": 36,
     "metadata": {},
     "output_type": "execute_result"
    },
    {
     "data": {
      "image/png": "[encoded data removed]",
      "text/plain": [
       "<Figure size 432x288 with 1 Axes>"
      ]
     },
     "metadata": {
      "needs_background": "light"
     },
     "output_type": "display_data"
    }
   ],
   "source": [
    "plt.scatter(df.age,df.bought_insurance,marker=\"+\",color='red')\n",
    "from sklearn.linear_model import LinearRegression\n",
    "\n",
    "lreg=LinearRegression().fit(df[['age']],df.bought_insurance)\n",
    "y_pred = lreg.predict(df[['age']])\n",
    "plt.plot(df.age,y_pred)\n",
    "\n",
    "# The line show the linear regression \n",
    "# if an outlier is there this will make problem"
   ]
  },
  {
   "cell_type": "code",
   "execution_count": 37,
   "id": "02f54e10-f091-4be3-bc09-6e94df563249",
   "metadata": {},
   "outputs": [
    {
     "data": {
      "text/plain": [
       "0.5364021643885126"
      ]
     },
     "execution_count": 37,
     "metadata": {},
     "output_type": "execute_result"
    }
   ],
   "source": [
    "# score\n",
    "lreg.score(df[['age']],df.bought_insurance)"
   ]
  },
  {
   "cell_type": "markdown",
   "id": "12633885-e051-4c9f-9cfd-fe853732b6f3",
   "metadata": {},
   "source": [
    "##  sklearn  logistice regression\n",
    "\n",
    "### Step 1: Split the dataset into train and test"
   ]
  },
  {
   "cell_type": "code",
   "execution_count": 59,
   "id": "d867c81d-c0f1-44fc-bf5d-41498613af89",
   "metadata": {},
   "outputs": [],
   "source": [
    "from sklearn.model_selection import train_test_split\n",
    "X_train,X_test,y_train,y_test = train_test_split(df[['age']],df.bought_insurance,test_size=.2)"
   ]
  },
  {
   "cell_type": "markdown",
   "id": "7f587acf-56eb-4e3e-8776-bfec932d98e1",
   "metadata": {},
   "source": [
    "### Step 2: Model creation"
   ]
  },
  {
   "cell_type": "code",
   "execution_count": 60,
   "id": "8f282469-ebd1-47c2-add8-c5528a296cfb",
   "metadata": {},
   "outputs": [],
   "source": [
    "from sklearn.linear_model import LogisticRegression\n",
    "model = LogisticRegression()"
   ]
  },
  {
   "cell_type": "code",
   "execution_count": 61,
   "id": "79c48062-710b-45c6-b298-95929cb5b5a6",
   "metadata": {},
   "outputs": [
    {
     "data": {
      "text/plain": [
       "LogisticRegression()"
      ]
     },
     "execution_count": 61,
     "metadata": {},
     "output_type": "execute_result"
    }
   ],
   "source": [
    "# fit the model\n",
    "model.fit(X_train,y_train)"
   ]
  },
  {
   "cell_type": "code",
   "execution_count": 62,
   "id": "ce799e97-6d9c-4343-bd28-61ee2672c101",
   "metadata": {},
   "outputs": [],
   "source": [
    "y_pred = model.predict(X_test)"
   ]
  },
  {
   "cell_type": "code",
   "execution_count": 63,
   "id": "2599d297-9383-4994-8118-9e7b253d3dcc",
   "metadata": {},
   "outputs": [
    {
     "data": {
      "text/plain": [
       "array([0, 1, 1, 1, 1, 1])"
      ]
     },
     "execution_count": 63,
     "metadata": {},
     "output_type": "execute_result"
    }
   ],
   "source": [
    "y_pred"
   ]
  },
  {
   "cell_type": "code",
   "execution_count": 90,
   "id": "8dd3aa2b-459b-430a-9c62-0a55bf343993",
   "metadata": {},
   "outputs": [
    {
     "name": "stdout",
     "output_type": "stream",
     "text": [
      "[[0.8925775  0.1074225 ]\n",
      " [0.10266326 0.89733674]\n",
      " [0.04501951 0.95498049]\n",
      " [0.02937193 0.97062807]\n",
      " [0.217319   0.782681  ]\n",
      " [0.0684156  0.9315844 ]]\n"
     ]
    }
   ],
   "source": [
    "pd.options.display.float_format = '{:.2f}'.format \n",
    "np.set_printoptions(suppress=True)\n",
    "print(model.predict_proba(X_test))\n",
    "# the below shows the probability of 0 and then 1\n",
    "\n"
   ]
  },
  {
   "cell_type": "code",
   "execution_count": 78,
   "id": "779bc740-e0f5-4768-b137-027c85fd9c60",
   "metadata": {},
   "outputs": [
    {
     "data": {
      "text/plain": [
       "array([0.8925775 , 0.10266326, 0.04501951, 0.02937193, 0.217319  ,\n",
       "       0.0684156 ])"
      ]
     },
     "execution_count": 78,
     "metadata": {},
     "output_type": "execute_result"
    }
   ],
   "source": []
  },
  {
   "cell_type": "markdown",
   "id": "92bf3c64-795f-48a0-8269-68644690ad55",
   "metadata": {},
   "source": [
    "#### coefficiten (m)"
   ]
  },
  {
   "cell_type": "code",
   "execution_count": 65,
   "id": "85aa88e3-54a1-40ec-8586-346ada059764",
   "metadata": {},
   "outputs": [
    {
     "data": {
      "text/plain": [
       "array([[0.14776968]])"
      ]
     },
     "execution_count": 65,
     "metadata": {},
     "output_type": "execute_result"
    }
   ],
   "source": [
    "model.coef_"
   ]
  },
  {
   "cell_type": "markdown",
   "id": "1d7284e5-f019-4179-bee0-92a8c4e5e800",
   "metadata": {},
   "source": [
    "#### Intercept (b)"
   ]
  },
  {
   "cell_type": "code",
   "execution_count": 66,
   "id": "a94df50a-878a-4827-9416-25c64bd3231c",
   "metadata": {},
   "outputs": [
    {
     "data": {
      "text/plain": [
       "array([-5.51604619])"
      ]
     },
     "execution_count": 66,
     "metadata": {},
     "output_type": "execute_result"
    }
   ],
   "source": [
    "model.intercept_"
   ]
  },
  {
   "cell_type": "markdown",
   "id": "fc41e137-0011-4c86-b465-2c0a2cc92642",
   "metadata": {},
   "source": [
    "#### Score"
   ]
  },
  {
   "cell_type": "code",
   "execution_count": 67,
   "id": "a0784512-112f-489c-bf49-a4bf8712345d",
   "metadata": {},
   "outputs": [
    {
     "data": {
      "text/plain": [
       "0.8333333333333334"
      ]
     },
     "execution_count": 67,
     "metadata": {},
     "output_type": "execute_result"
    }
   ],
   "source": [
    "model.score(X_test,y_test)"
   ]
  },
  {
   "cell_type": "code",
   "execution_count": 68,
   "id": "a83f5ebc-6a85-4c29-81bb-042a4d2c7186",
   "metadata": {},
   "outputs": [
    {
     "data": {
      "text/plain": [
       "0.9047619047619048"
      ]
     },
     "execution_count": 68,
     "metadata": {},
     "output_type": "execute_result"
    }
   ],
   "source": [
    "model.score(X_train,y_train)"
   ]
  },
  {
   "cell_type": "markdown",
   "id": "b1d88203-cfc5-4276-afc6-2d21717dac71",
   "metadata": {},
   "source": [
    "#### Logistice regression plot"
   ]
  },
  {
   "cell_type": "code",
   "execution_count": 75,
   "id": "6418ed1c-ceb8-4124-bd0b-ba18bd7aa69e",
   "metadata": {},
   "outputs": [
    {
     "name": "stderr",
     "output_type": "stream",
     "text": [
      "/opt/anaconda3/envs/jenv/lib/python3.9/site-packages/seaborn/_decorators.py:36: FutureWarning: Pass the following variables as keyword args: x, y. From version 0.12, the only valid positional argument will be `data`, and passing other arguments without an explicit keyword will result in an error or misinterpretation.\n",
      "  warnings.warn(\n"
     ]
    },
    {
     "data": {
      "text/plain": [
       "<AxesSubplot:xlabel='age'>"
      ]
     },
     "execution_count": 75,
     "metadata": {},
     "output_type": "execute_result"
    },
    {
     "data": {
      "image/png": "[encoded data removed]",
      "text/plain": [
       "<Figure size 432x288 with 1 Axes>"
      ]
     },
     "metadata": {
      "needs_background": "light"
     },
     "output_type": "display_data"
    }
   ],
   "source": [
    "\n",
    "plt.scatter(df.age,df.bought_insurance)\n",
    "sns.lineplot(df.age,model.predict(df[['age']]))"
   ]
  },
  {
   "cell_type": "markdown",
   "id": "4e8c78be-b39a-4a40-8186-c92ebe5b596e",
   "metadata": {},
   "source": [
    "####  Probability curve"
   ]
  },
  {
   "cell_type": "code",
   "execution_count": 88,
   "id": "6e1fc4ed-2dcf-4a56-8c7b-6219990b8d44",
   "metadata": {},
   "outputs": [
    {
     "name": "stderr",
     "output_type": "stream",
     "text": [
      "/opt/anaconda3/envs/jenv/lib/python3.9/site-packages/seaborn/_decorators.py:36: FutureWarning: Pass the following variables as keyword args: x, y. From version 0.12, the only valid positional argument will be `data`, and passing other arguments without an explicit keyword will result in an error or misinterpretation.\n",
      "  warnings.warn(\n"
     ]
    },
    {
     "data": {
      "text/plain": [
       "<AxesSubplot:xlabel='age'>"
      ]
     },
     "execution_count": 88,
     "metadata": {},
     "output_type": "execute_result"
    },
    {
     "data": {
      "image/png": "[encoded data removed]",
      "text/plain": [
       "<Figure size 432x288 with 1 Axes>"
      ]
     },
     "metadata": {
      "needs_background": "light"
     },
     "output_type": "display_data"
    }
   ],
   "source": [
    "plt.scatter(df.age,df.bought_insurance)\n",
    "# line plot will plot the line in ascending order of the points\n",
    "# lineplot age vs probability of 1\n",
    "sns.lineplot(df.age,model.predict_proba(df[['age']])[:,1])"
   ]
  },
  {
   "cell_type": "markdown",
   "id": "4e968b38-792a-4037-80a2-f4c8223aa092",
   "metadata": {},
   "source": [
    "#### Define the fuction manually"
   ]
  },
  {
   "cell_type": "code",
   "execution_count": 98,
   "id": "ec2b055a-4140-4a4d-bd03-b961466ee5b9",
   "metadata": {},
   "outputs": [],
   "source": [
    "import math\n",
    "def sigmoid(z):\n",
    "    return (1/(1+math.exp(-z)))"
   ]
  },
  {
   "cell_type": "code",
   "execution_count": 112,
   "id": "b9ad4eeb-82aa-4a86-9c0b-6d33f6ddcad0",
   "metadata": {},
   "outputs": [],
   "source": [
    "def predicts(age):\n",
    "    z = age*0.14776968-5.51604619\n",
    "    y =sigmoid(z)\n",
    "    if y<=.5: return 0 \n",
    "    else: return 1"
   ]
  },
  {
   "cell_type": "code",
   "execution_count": 127,
   "id": "1d56fce8-9439-4f45-a31b-f630774d411e",
   "metadata": {},
   "outputs": [
    {
     "data": {
      "text/plain": [
       "1"
      ]
     },
     "execution_count": 127,
     "metadata": {},
     "output_type": "execute_result"
    }
   ],
   "source": [
    "\n",
    "predicts(37.5)"
   ]
  },
  {
   "cell_type": "code",
   "execution_count": 126,
   "id": "00ce06ab-bdd5-4aae-b7d2-76c843d426c4",
   "metadata": {},
   "outputs": [
    {
     "name": "stderr",
     "output_type": "stream",
     "text": [
      "/opt/anaconda3/envs/jenv/lib/python3.9/site-packages/sklearn/base.py:450: UserWarning: X does not have valid feature names, but LogisticRegression was fitted with feature names\n",
      "  warnings.warn(\n"
     ]
    },
    {
     "data": {
      "text/plain": [
       "array([1])"
      ]
     },
     "execution_count": 126,
     "metadata": {},
     "output_type": "execute_result"
    }
   ],
   "source": [
    "model.predict([[37.5]])"
   ]
  },
  {
   "cell_type": "code",
   "execution_count": null,
   "id": "dc6f3bb2-eafb-49c9-b8c5-191f1e56413c",
   "metadata": {},
   "outputs": [],
   "source": []
  },
  {
   "cell_type": "code",
   "execution_count": null,
   "id": "0a23e2a7-8c34-4f7a-8072-9d318a482ea7",
   "metadata": {},
   "outputs": [],
   "source": []
  }
 ],
 "metadata": {
  "kernelspec": {
   "display_name": "Python 3 (ipykernel)",
   "language": "python",
   "name": "python3"
  },
  "language_info": {
   "codemirror_mode": {
    "name": "ipython",
    "version": 3
   },
   "file_extension": ".py",
   "mimetype": "text/x-python",
   "name": "python",
   "nbconvert_exporter": "python",
   "pygments_lexer": "ipython3",
   "version": "3.9.12"
  }
 },
 "nbformat": 4,
 "nbformat_minor": 5
}
